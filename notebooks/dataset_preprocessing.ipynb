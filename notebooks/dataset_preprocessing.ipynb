{
  "nbformat": 4,
  "nbformat_minor": 0,
  "metadata": {
    "colab": {
      "provenance": []
    },
    "kernelspec": {
      "name": "python3",
      "display_name": "Python 3"
    },
    "language_info": {
      "name": "python"
    }
  },
  "cells": [
    {
      "cell_type": "code",
      "execution_count": null,
      "metadata": {
        "colab": {
          "base_uri": "https://localhost:8080/"
        },
        "id": "eExunSitCV-K",
        "outputId": "403542d7-e5d6-422f-f111-44726af805e7"
      },
      "outputs": [
        {
          "output_type": "stream",
          "name": "stdout",
          "text": [
            "Mounted at /content/drive\n"
          ]
        }
      ],
      "source": [
        "from google.colab import drive\n",
        "drive.mount('/content/drive')"
      ]
    },
    {
      "cell_type": "code",
      "source": [
        "!pip install numpy tensorflow scikit-learn"
      ],
      "metadata": {
        "colab": {
          "base_uri": "https://localhost:8080/"
        },
        "id": "D-ZFBdakEl1X",
        "outputId": "8168448b-986a-45c7-9a8e-a4ce1b08853e"
      },
      "execution_count": null,
      "outputs": [
        {
          "output_type": "stream",
          "name": "stdout",
          "text": [
            "Requirement already satisfied: numpy in /usr/local/lib/python3.11/dist-packages (1.26.4)\n",
            "Requirement already satisfied: tensorflow in /usr/local/lib/python3.11/dist-packages (2.18.0)\n",
            "Requirement already satisfied: scikit-learn in /usr/local/lib/python3.11/dist-packages (1.6.1)\n",
            "Requirement already satisfied: absl-py>=1.0.0 in /usr/local/lib/python3.11/dist-packages (from tensorflow) (1.4.0)\n",
            "Requirement already satisfied: astunparse>=1.6.0 in /usr/local/lib/python3.11/dist-packages (from tensorflow) (1.6.3)\n",
            "Requirement already satisfied: flatbuffers>=24.3.25 in /usr/local/lib/python3.11/dist-packages (from tensorflow) (25.2.10)\n",
            "Requirement already satisfied: gast!=0.5.0,!=0.5.1,!=0.5.2,>=0.2.1 in /usr/local/lib/python3.11/dist-packages (from tensorflow) (0.6.0)\n",
            "Requirement already satisfied: google-pasta>=0.1.1 in /usr/local/lib/python3.11/dist-packages (from tensorflow) (0.2.0)\n",
            "Requirement already satisfied: libclang>=13.0.0 in /usr/local/lib/python3.11/dist-packages (from tensorflow) (18.1.1)\n",
            "Requirement already satisfied: opt-einsum>=2.3.2 in /usr/local/lib/python3.11/dist-packages (from tensorflow) (3.4.0)\n",
            "Requirement already satisfied: packaging in /usr/local/lib/python3.11/dist-packages (from tensorflow) (24.2)\n",
            "Requirement already satisfied: protobuf!=4.21.0,!=4.21.1,!=4.21.2,!=4.21.3,!=4.21.4,!=4.21.5,<6.0.0dev,>=3.20.3 in /usr/local/lib/python3.11/dist-packages (from tensorflow) (4.25.6)\n",
            "Requirement already satisfied: requests<3,>=2.21.0 in /usr/local/lib/python3.11/dist-packages (from tensorflow) (2.32.3)\n",
            "Requirement already satisfied: setuptools in /usr/local/lib/python3.11/dist-packages (from tensorflow) (75.1.0)\n",
            "Requirement already satisfied: six>=1.12.0 in /usr/local/lib/python3.11/dist-packages (from tensorflow) (1.17.0)\n",
            "Requirement already satisfied: termcolor>=1.1.0 in /usr/local/lib/python3.11/dist-packages (from tensorflow) (2.5.0)\n",
            "Requirement already satisfied: typing-extensions>=3.6.6 in /usr/local/lib/python3.11/dist-packages (from tensorflow) (4.12.2)\n",
            "Requirement already satisfied: wrapt>=1.11.0 in /usr/local/lib/python3.11/dist-packages (from tensorflow) (1.17.2)\n",
            "Requirement already satisfied: grpcio<2.0,>=1.24.3 in /usr/local/lib/python3.11/dist-packages (from tensorflow) (1.70.0)\n",
            "Requirement already satisfied: tensorboard<2.19,>=2.18 in /usr/local/lib/python3.11/dist-packages (from tensorflow) (2.18.0)\n",
            "Requirement already satisfied: keras>=3.5.0 in /usr/local/lib/python3.11/dist-packages (from tensorflow) (3.8.0)\n",
            "Requirement already satisfied: h5py>=3.11.0 in /usr/local/lib/python3.11/dist-packages (from tensorflow) (3.12.1)\n",
            "Requirement already satisfied: ml-dtypes<0.5.0,>=0.4.0 in /usr/local/lib/python3.11/dist-packages (from tensorflow) (0.4.1)\n",
            "Requirement already satisfied: tensorflow-io-gcs-filesystem>=0.23.1 in /usr/local/lib/python3.11/dist-packages (from tensorflow) (0.37.1)\n",
            "Requirement already satisfied: scipy>=1.6.0 in /usr/local/lib/python3.11/dist-packages (from scikit-learn) (1.13.1)\n",
            "Requirement already satisfied: joblib>=1.2.0 in /usr/local/lib/python3.11/dist-packages (from scikit-learn) (1.4.2)\n",
            "Requirement already satisfied: threadpoolctl>=3.1.0 in /usr/local/lib/python3.11/dist-packages (from scikit-learn) (3.5.0)\n",
            "Requirement already satisfied: wheel<1.0,>=0.23.0 in /usr/local/lib/python3.11/dist-packages (from astunparse>=1.6.0->tensorflow) (0.45.1)\n",
            "Requirement already satisfied: rich in /usr/local/lib/python3.11/dist-packages (from keras>=3.5.0->tensorflow) (13.9.4)\n",
            "Requirement already satisfied: namex in /usr/local/lib/python3.11/dist-packages (from keras>=3.5.0->tensorflow) (0.0.8)\n",
            "Requirement already satisfied: optree in /usr/local/lib/python3.11/dist-packages (from keras>=3.5.0->tensorflow) (0.14.0)\n",
            "Requirement already satisfied: charset-normalizer<4,>=2 in /usr/local/lib/python3.11/dist-packages (from requests<3,>=2.21.0->tensorflow) (3.4.1)\n",
            "Requirement already satisfied: idna<4,>=2.5 in /usr/local/lib/python3.11/dist-packages (from requests<3,>=2.21.0->tensorflow) (3.10)\n",
            "Requirement already satisfied: urllib3<3,>=1.21.1 in /usr/local/lib/python3.11/dist-packages (from requests<3,>=2.21.0->tensorflow) (2.3.0)\n",
            "Requirement already satisfied: certifi>=2017.4.17 in /usr/local/lib/python3.11/dist-packages (from requests<3,>=2.21.0->tensorflow) (2025.1.31)\n",
            "Requirement already satisfied: markdown>=2.6.8 in /usr/local/lib/python3.11/dist-packages (from tensorboard<2.19,>=2.18->tensorflow) (3.7)\n",
            "Requirement already satisfied: tensorboard-data-server<0.8.0,>=0.7.0 in /usr/local/lib/python3.11/dist-packages (from tensorboard<2.19,>=2.18->tensorflow) (0.7.2)\n",
            "Requirement already satisfied: werkzeug>=1.0.1 in /usr/local/lib/python3.11/dist-packages (from tensorboard<2.19,>=2.18->tensorflow) (3.1.3)\n",
            "Requirement already satisfied: MarkupSafe>=2.1.1 in /usr/local/lib/python3.11/dist-packages (from werkzeug>=1.0.1->tensorboard<2.19,>=2.18->tensorflow) (3.0.2)\n",
            "Requirement already satisfied: markdown-it-py>=2.2.0 in /usr/local/lib/python3.11/dist-packages (from rich->keras>=3.5.0->tensorflow) (3.0.0)\n",
            "Requirement already satisfied: pygments<3.0.0,>=2.13.0 in /usr/local/lib/python3.11/dist-packages (from rich->keras>=3.5.0->tensorflow) (2.18.0)\n",
            "Requirement already satisfied: mdurl~=0.1 in /usr/local/lib/python3.11/dist-packages (from markdown-it-py>=2.2.0->rich->keras>=3.5.0->tensorflow) (0.1.2)\n"
          ]
        }
      ]
    },
    {
      "cell_type": "code",
      "source": [
        "import numpy as np\n",
        "import os\n",
        "from tensorflow.keras.preprocessing.sequence import pad_sequences\n",
        "#extracts last 60 frames\n",
        "def load_and_preprocess_data(keypoints_dir, sequence_length=60):\n",
        "    data = []\n",
        "    labels = []\n",
        "    for category, label in [('fall', 1), ('non_fall', 0)]:\n",
        "        dir_path = os.path.join(keypoints_dir, category)\n",
        "        for file in os.listdir(dir_path):\n",
        "            if file.endswith('.npy'):\n",
        "                keypoints = np.load(os.path.join(dir_path, file))\n",
        "                # Take last 60 frames\n",
        "                if len(keypoints) >= sequence_length:\n",
        "                    keypoints = keypoints[-sequence_length:]\n",
        "                else:\n",
        "                    # Pad if less than 60 frames\n",
        "                    keypoints = pad_sequences([keypoints], maxlen=sequence_length,\n",
        "                                            padding='pre', truncating='post')[0]\n",
        "                data.append(keypoints)\n",
        "                labels.append(label)\n",
        "    return np.array(data), np.array(labels)\n",
        "\n",
        "# Define keypoints path\n",
        "keypoints_dir = '/content/drive/MyDrive/keypoints'\n",
        "\n",
        "# Load and preprocess\n",
        "X, y = load_and_preprocess_data(keypoints_dir, sequence_length=60)\n",
        "print(f\"Full dataset shape: {X.shape}, Labels shape: {y.shape}\")\n",
        "print(f\"Label distribution: {np.bincount(y)}\")  # 150 non-fall, 100 fall\n",
        "\n",
        "# Save dataset to Drive\n",
        "output_dir = '/content/drive/MyDrive/preprocessed'\n",
        "os.makedirs(output_dir, exist_ok=True)\n",
        "\n",
        "np.save(f'{output_dir}/X_full.npy', X)\n",
        "np.save(f'{output_dir}/y_full.npy', y)\n",
        "print(\"Full dataset saved to Drive!\")"
      ],
      "metadata": {
        "colab": {
          "base_uri": "https://localhost:8080/"
        },
        "id": "Vdm28LtVEozP",
        "outputId": "9e97cde1-d640-4232-c3bd-1b0c3fbb1d9d"
      },
      "execution_count": null,
      "outputs": [
        {
          "output_type": "stream",
          "name": "stdout",
          "text": [
            "Full dataset shape: (250, 60, 132), Labels shape: (250,)\n",
            "Label distribution: [150 100]\n",
            "Full dataset saved to Drive!\n"
          ]
        }
      ]
    },
    {
      "cell_type": "code",
      "source": [
        "print(X)"
      ],
      "metadata": {
        "colab": {
          "base_uri": "https://localhost:8080/"
        },
        "id": "AosXi3JmbAq5",
        "outputId": "7eb12290-226d-4c4c-bb94-d84b2b1476a1"
      },
      "execution_count": null,
      "outputs": [
        {
          "output_type": "stream",
          "name": "stdout",
          "text": [
            "[[[ 4.79912370e-01  2.15090290e-01 -2.11210683e-01 ...  8.04065526e-01\n",
            "    1.93369254e-01  9.42252755e-01]\n",
            "  [ 4.78965998e-01  2.19112635e-01 -2.11197570e-01 ...  7.89235353e-01\n",
            "    1.97648019e-01  9.31015611e-01]\n",
            "  [ 4.72763956e-01  2.35488996e-01 -2.39211947e-01 ...  7.72271454e-01\n",
            "    2.13529140e-01  9.03858840e-01]\n",
            "  ...\n",
            "  [ 3.09514552e-01  7.08944380e-01  3.51873226e-02 ...  7.87873328e-01\n",
            "   -6.13047957e-01  9.75703657e-01]\n",
            "  [ 3.09495628e-01  7.08926320e-01  3.44488248e-02 ...  7.87898421e-01\n",
            "   -6.12877250e-01  9.76137280e-01]\n",
            "  [ 3.09482783e-01  7.08858490e-01  3.49037796e-02 ...  7.87985682e-01\n",
            "   -6.12423599e-01  9.76587713e-01]]\n",
            "\n",
            " [[ 5.84169984e-01  3.58818382e-01 -2.79603988e-01 ...  7.77043819e-01\n",
            "    2.69429892e-01  8.01755428e-01]\n",
            "  [ 5.83601713e-01  3.61117810e-01 -2.91433156e-01 ...  7.77070463e-01\n",
            "    2.61052787e-01  7.85077035e-01]\n",
            "  [ 5.99990904e-01  3.90057683e-01 -2.85465330e-01 ...  7.74456084e-01\n",
            "    2.48250157e-01  7.69122064e-01]\n",
            "  ...\n",
            "  [ 7.74901211e-01  7.55756617e-01 -3.97500753e-01 ...  7.90745318e-01\n",
            "   -2.19386533e-01  9.90367413e-01]\n",
            "  [ 7.74888337e-01  7.55738974e-01 -3.99743587e-01 ...  7.90745616e-01\n",
            "   -2.17881322e-01  9.90626156e-01]\n",
            "  [ 7.74873734e-01  7.55724788e-01 -4.03002918e-01 ...  7.90745318e-01\n",
            "   -2.17797548e-01  9.90885019e-01]]\n",
            "\n",
            " [[ 6.31546974e-01  4.93245542e-01 -9.73249786e-03 ...  7.39200771e-01\n",
            "   -2.22752735e-01  9.54049289e-01]\n",
            "  [ 6.36422753e-01  5.00091314e-01 -4.22755666e-02 ...  7.25517809e-01\n",
            "   -8.43696520e-02  9.57999825e-01]\n",
            "  [ 6.56806350e-01  5.52964926e-01 -2.95097884e-02 ...  6.87148690e-01\n",
            "   -2.01442212e-01  9.61200953e-01]\n",
            "  ...\n",
            "  [ 7.82545805e-01  7.17265666e-01  3.68442503e-04 ...  9.05977964e-01\n",
            "   -4.59354967e-01  9.48257625e-01]\n",
            "  [ 7.82541633e-01  7.17265010e-01  4.36980976e-04 ...  9.05437887e-01\n",
            "   -4.61282820e-01  9.47897077e-01]\n",
            "  [ 7.82605290e-01  7.17394173e-01 -9.63906117e-04 ...  9.05028641e-01\n",
            "   -4.51021612e-01  9.47624266e-01]]\n",
            "\n",
            " ...\n",
            "\n",
            " [[ 5.35788119e-01  1.05274193e-01 -1.71374202e-01 ...  7.83151388e-01\n",
            "    1.44006565e-01  9.63231504e-01]\n",
            "  [ 5.35634518e-01  1.01911917e-01 -1.93994030e-01 ...  7.66935706e-01\n",
            "    1.89651161e-01  9.51312959e-01]\n",
            "  [ 5.35726190e-01  9.84418020e-02 -1.95687324e-01 ...  7.68108010e-01\n",
            "    1.62960097e-01  9.53624666e-01]\n",
            "  ...\n",
            "  [ 5.10718703e-01  1.05200313e-01 -1.46897778e-01 ...  7.78789699e-01\n",
            "    8.45199600e-02  9.59398150e-01]\n",
            "  [ 5.10945439e-01  1.03109412e-01 -1.71629205e-01 ...  7.78683364e-01\n",
            "    8.71522576e-02  9.59862649e-01]\n",
            "  [ 5.11112452e-01  1.02213182e-01 -1.87417895e-01 ...  7.78710008e-01\n",
            "    8.99589881e-02  9.60296452e-01]]\n",
            "\n",
            " [[ 4.80274916e-01  2.16021881e-01 -2.06578020e-02 ...  7.70316541e-01\n",
            "    1.16708651e-01  7.87618637e-01]\n",
            "  [ 4.80854124e-01  2.16034040e-01 -1.37428846e-02 ...  7.69508541e-01\n",
            "    1.03751466e-01  8.04335415e-01]\n",
            "  [ 4.81200606e-01  2.16048002e-01 -1.13565158e-02 ...  7.68802404e-01\n",
            "    1.06763825e-01  8.19426894e-01]\n",
            "  ...\n",
            "  [ 4.98810202e-01  2.02813745e-01 -1.65623128e-01 ...  7.76476383e-01\n",
            "    1.77396029e-01  8.75330389e-01]\n",
            "  [ 4.98719543e-01  2.02848077e-01 -1.30003557e-01 ...  7.77066052e-01\n",
            "    1.29744604e-01  8.58544469e-01]\n",
            "  [ 4.98639047e-01  2.02848703e-01 -1.21256843e-01 ...  7.96092629e-01\n",
            "    1.44164369e-01  8.59561086e-01]]\n",
            "\n",
            " [[ 5.49067974e-01  1.87167212e-01 -9.71347392e-02 ...  7.63950169e-01\n",
            "    1.37534529e-01  9.30589795e-01]\n",
            "  [ 5.49037755e-01  1.89485714e-01 -7.80656487e-02 ...  7.62208879e-01\n",
            "    1.68045253e-01  9.26184237e-01]\n",
            "  [ 5.48157036e-01  1.92923486e-01 -7.27318078e-02 ...  7.61942625e-01\n",
            "    1.66513428e-01  9.23201799e-01]\n",
            "  ...\n",
            "  [ 5.20733237e-01  1.95000440e-01 -1.07479945e-01 ...  7.72537887e-01\n",
            "    1.83330886e-02  9.26749349e-01]\n",
            "  [ 5.22299826e-01  1.93630874e-01 -9.60764438e-02 ...  7.76514590e-01\n",
            "    3.51339318e-02  9.24108326e-01]\n",
            "  [ 5.24040341e-01  1.92791849e-01 -9.43462104e-02 ...  7.76289523e-01\n",
            "    8.16796869e-02  9.21890080e-01]]]\n"
          ]
        }
      ]
    }
  ]
}